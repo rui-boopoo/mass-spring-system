{
 "cells": [
  {
   "cell_type": "code",
   "execution_count": 1,
   "id": "67459491-a47c-4c99-a7a1-073ab690a8eb",
   "metadata": {},
   "outputs": [
    {
     "name": "stdout",
     "output_type": "stream",
     "text": [
      "[Taichi] version 1.7.0, llvm 15.0.1, commit 2fd24490, win, python 3.10.6\n"
     ]
    }
   ],
   "source": [
    "# Import Taichi\n",
    "import taichi as ti\n",
    "import taichi.math as tm\n",
    "# Import numpy\n",
    "import numpy as np"
   ]
  },
  {
   "cell_type": "code",
   "execution_count": 2,
   "id": "a898976b-486f-4803-a307-44fd16e9e3e0",
   "metadata": {},
   "outputs": [
    {
     "name": "stdout",
     "output_type": "stream",
     "text": [
      "[Taichi] Starting on arch=vulkan\n"
     ]
    }
   ],
   "source": [
    "ti.init(arch=ti.vulkan)\n",
    "\n",
    "# type aliases\n",
    "vec2 = tm.vec2\n",
    "vec3 = tm.vec3"
   ]
  },
  {
   "cell_type": "code",
   "execution_count": 3,
   "id": "e79db83b-8c1f-43fc-8903-c32412b27508",
   "metadata": {},
   "outputs": [],
   "source": [
    "# define resolution\n",
    "WIDTH = 800\n",
    "HEIGHT = 800\n",
    "\n",
    "PARTICLE_COUNT = 50 # define shape\n",
    "PARTICLE_RADIUS = 0.02 # for rendering only\n",
    "\n",
    "# define variables \n",
    "masses = ti.field(dtype=float, shape=PARTICLE_COUNT)\n",
    "positions = ti.Vector.field(2, dtype=float, shape=PARTICLE_COUNT)\n",
    "previous_positions = ti.Vector.field(2, dtype=float, shape=PARTICLE_COUNT)\n",
    "\n",
    "@ti.func\n",
    "def generate_random_float(minInclude, maxInclude):\n",
    "    random_float = minInclude + (maxInclude - minInclude) * ti.random()\n",
    "    return random_float\n",
    "\n",
    "@ti.func\n",
    "def random_position() -> vec2:\n",
    "    return vec2(generate_random_float(0, 1), generate_random_float(0, 1))\n",
    "\n",
    "@ti.func\n",
    "def random_velocity(minInclude: vec2, maxInclude: vec2) -> vec2:\n",
    "    x = generate_random_float(minInclude.x, maxInclude.x)\n",
    "    y = generate_random_float(minInclude.y, maxInclude.y)\n",
    "    return vec2(x, y)\n",
    "\n",
    "@ti.kernel\n",
    "def init():\n",
    "    for i in range(PARTICLE_COUNT):\n",
    "        positions[i] = random_position()\n",
    "        previous_positions[i] = positions[i] - random_velocity(vec2(-5), vec2(5))"
   ]
  },
  {
   "cell_type": "code",
   "execution_count": 4,
   "id": "fde6345d-5705-4e29-a930-a84c98706f85",
   "metadata": {},
   "outputs": [],
   "source": [
    "@ti.kernel\n",
    "def update():\n",
    "    for i in range(PARTICLE_COUNT):\n",
    "        current_position = positions[i]\n",
    "        # verlet simulation\n",
    "        next_position = 2.0 * current_position - previous_positions[i]\n",
    "        current_accleration = vec2(0)\n",
    "\n",
    "        positions[i] = next_position + current_accleration\n",
    "        previous_positions[i] = current_position\n",
    "        \n",
    "         # boundary constraints for x-axis\n",
    "        if positions[i].x > 1:\n",
    "            positions[i].x = 1\n",
    "            previous_positions[i].x = next_position.x\n",
    "        elif positions[i].x < 0:\n",
    "            positions[i].x = 0\n",
    "            previous_positions[i].x = next_position.x \n",
    "\n",
    "        # boundary constraints for y-axis\n",
    "        if positions[i].y > 1:\n",
    "            positions[i].y = 1\n",
    "            previous_positions[i].y = next_position.y\n",
    "        elif positions[i].y < 0:\n",
    "            positions[i].y = 0\n",
    "            previous_positions[i].y = next_position.y"
   ]
  },
  {
   "cell_type": "code",
   "execution_count": 5,
   "id": "16f183c7-ec10-48d7-ba87-a1b4d6733231",
   "metadata": {},
   "outputs": [],
   "source": [
    "init()\n",
    "\n",
    "window = ti.ui.Window(\"Mass Spring System\", (WIDTH, HEIGHT), vsync=True)\n",
    "canvas = window.get_canvas()\n",
    "canvas.set_background_color((1, 1, 1))\n",
    "\n",
    "scene = window.get_scene()\n",
    "camera = ti.ui.Camera()\n",
    "camera.position(0, 0, 5)\n",
    "camera.lookat(0, 0, 0) \n",
    "camera.up(0, 1, 0) \n",
    "\n",
    "while window.running:\n",
    "    # update()\n",
    "    \n",
    "    # Setting up the camera\n",
    "    camera = ti.ui.make_camera()\n",
    "    camera.position(0, 0, 5)\n",
    "    camera.lookat(0, 0, 0)\n",
    "    camera.up(0, 1, 0)\n",
    "    scene.set_camera(camera)\n",
    "\n",
    "    scene.point_light(pos=(0, 10, 10), color=(1, 1, 1))\n",
    "    scene.ambient_light(color=(0.5, 0.5, 0.5))\n",
    "\n",
    "    collide_sphere = ti.Vector.field(3, dtype=float, shape=(1, ))\n",
    "    collide_sphere[0] = [0, 0, 0]\n",
    "    scene.particles(collide_sphere, radius=1, color=(0.5, 0.5, 0.5))\n",
    "    canvas.scene(scene)\n",
    "    window.show()"
   ]
  },
  {
   "cell_type": "code",
   "execution_count": null,
   "id": "8be13140-df2f-4237-9315-3c845bdeae5a",
   "metadata": {},
   "outputs": [],
   "source": []
  }
 ],
 "metadata": {
  "kernelspec": {
   "display_name": "Python 3 (ipykernel)",
   "language": "python",
   "name": "python3"
  },
  "language_info": {
   "codemirror_mode": {
    "name": "ipython",
    "version": 3
   },
   "file_extension": ".py",
   "mimetype": "text/x-python",
   "name": "python",
   "nbconvert_exporter": "python",
   "pygments_lexer": "ipython3",
   "version": "3.10.6"
  }
 },
 "nbformat": 4,
 "nbformat_minor": 5
}
