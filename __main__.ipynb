{
 "cells": [
  {
   "cell_type": "code",
   "execution_count": 1,
   "id": "67459491-a47c-4c99-a7a1-073ab690a8eb",
   "metadata": {},
   "outputs": [
    {
     "name": "stdout",
     "output_type": "stream",
     "text": [
      "[Taichi] version 1.7.0, llvm 15.0.1, commit 2fd24490, win, python 3.10.6\n"
     ]
    }
   ],
   "source": [
    "# Import Taichi\n",
    "import taichi as ti\n",
    "import taichi.math as tm"
   ]
  },
  {
   "cell_type": "code",
   "execution_count": 2,
   "id": "a898976b-486f-4803-a307-44fd16e9e3e0",
   "metadata": {},
   "outputs": [
    {
     "name": "stdout",
     "output_type": "stream",
     "text": [
      "[Taichi] Starting on arch=cuda\n"
     ]
    }
   ],
   "source": [
    "ti.init(arch=ti.gpu)\n",
    "\n",
    "# type aliases\n",
    "vec2 = tm.vec2\n",
    "vec3 = tm.vec3"
   ]
  },
  {
   "cell_type": "code",
   "execution_count": 3,
   "id": "e79db83b-8c1f-43fc-8903-c32412b27508",
   "metadata": {},
   "outputs": [],
   "source": [
    "# define resolution\n",
    "WIDTH = 800\n",
    "HEIGHT = 800\n",
    "HALF_WIDTH = WIDTH / 2\n",
    "HALF_HEIGHT = HEIGHT / 2\n",
    "\n",
    "#define shape\n",
    "PARTICLE_COUNT = 50\n",
    "\n",
    "# define variables \n",
    "masses = ti.field(dtype=float, shape=PARTICLE_COUNT)\n",
    "positions = ti.Vector.field(2, dtype=float, shape=PARTICLE_COUNT)\n",
    "velocities = ti.Vector.field(2, dtype=float, shape=PARTICLE_COUNT)\n",
    "\n",
    "@ti.func\n",
    "def generate_random_float(minInclude, maxInclude):\n",
    "    random_float = minInclude + (maxInclude - minInclude) * ti.random()\n",
    "    return random_float\n",
    "\n",
    "@ti.func\n",
    "def random_position():\n",
    "    return ti.Vector([generate_random_float(-HALF_WIDTH, HALF_WIDTH), generate_random_float(-HALF_HEIGHT, HALF_HEIGHT)]) / ti.Vector([WIDTH, HEIGHT]) + 0.5\n",
    "\n",
    "@ti.kernel\n",
    "def init():\n",
    "    for i in range(PARTICLE_COUNT):\n",
    "        positions[i] = random_position()"
   ]
  },
  {
   "cell_type": "code",
   "execution_count": 4,
   "id": "fde6345d-5705-4e29-a930-a84c98706f85",
   "metadata": {},
   "outputs": [],
   "source": [
    "@ti.kernel\n",
    "def update():\n",
    "    pass"
   ]
  },
  {
   "cell_type": "code",
   "execution_count": 6,
   "id": "16f183c7-ec10-48d7-ba87-a1b4d6733231",
   "metadata": {},
   "outputs": [],
   "source": [
    "init()\n",
    "\n",
    "gui = ti.GUI(\"Mass Spring System\", res=(WIDTH, HEIGHT))\n",
    "while gui.running:\n",
    "    for i in range(PARTICLE_COUNT):\n",
    "        gui.circle(pos=positions[i], radius=5, color=0xED553B)\n",
    "    gui.circle(pos=vec2([20, 20]), radius=10, color=0xFFFFFF)\n",
    "    gui.show()"
   ]
  },
  {
   "cell_type": "code",
   "execution_count": null,
   "id": "20a5b49c-8579-4f29-b67e-eb114708f72d",
   "metadata": {},
   "outputs": [],
   "source": []
  }
 ],
 "metadata": {
  "kernelspec": {
   "display_name": "Python 3 (ipykernel)",
   "language": "python",
   "name": "python3"
  },
  "language_info": {
   "codemirror_mode": {
    "name": "ipython",
    "version": 3
   },
   "file_extension": ".py",
   "mimetype": "text/x-python",
   "name": "python",
   "nbconvert_exporter": "python",
   "pygments_lexer": "ipython3",
   "version": "3.10.6"
  }
 },
 "nbformat": 4,
 "nbformat_minor": 5
}
